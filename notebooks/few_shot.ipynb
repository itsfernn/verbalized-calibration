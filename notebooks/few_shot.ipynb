{
 "cells": [
  {
   "cell_type": "code",
   "execution_count": 2,
   "id": "02b0fa3c-6796-4f1e-8cb1-0df5c9fdbd21",
   "metadata": {},
   "outputs": [],
   "source": [
    "from utils.processor import BaseSampleProcessor\n",
    "from utils.chat import Chat"
   ]
  },
  {
   "cell_type": "code",
   "execution_count": 3,
   "id": "107754ca-48c3-4ead-a662-8245e620f381",
   "metadata": {},
   "outputs": [],
   "source": [
    "%load_ext autoreload\n",
    "%autoreload 2"
   ]
  },
  {
   "cell_type": "code",
   "execution_count": 26,
   "id": "685d7e6f-ef78-4960-b25b-64aec709f4fc",
   "metadata": {},
   "outputs": [],
   "source": [
    "few_shot_messages = []\n",
    "\n",
    "\n",
    "llm_config={\n",
    "    \"model\": \"gpt-4o-mini\",\n",
    "    \"temperature\": 1.2,\n",
    "    \"n\":5,\n",
    "}\n",
    "\n",
    "prompt = (\n",
    "    \"Provide your best guess for the following multi-hop question. \"\n",
    "    \"Provide a step-by-step explanation of your thought process. \"\n",
    "    \"Each step should only contain a single new fact and be on a new line. \"\n",
    "    \"When enough information is present, give your final answer on a new line with no other words or explanation. \"\n",
    "    \"Also provide how confident you are between 0.0 and 1.0 that a given line is correct.\\n\\n\"\n",
    "    \"<format>\\n\"\n",
    "    \"Step 1: {first reasoning step} Confidence: {confidence for step 1}\\n\"\n",
    "    \"Step 2: {second reasoning step} Confidence: {confidence for step 2}\\n\"\n",
    "    \"...\\n\"\n",
    "    \"Final Answer: {most likely guess, as short as possible; not a complete sentence, just the guess!} \"\n",
    "    \"Confidence: {final confidence for your answer}\\n\"\n",
    "    \"</format>\\n\"\n",
    ")\n",
    "\n",
    "few_shot_messages = [\n",
    "    (\n",
    "        \"Chairmen of the Bored is an album that references a joke made by a cast member of what series?\",\n",
    "        \"\"\"Step 1: The phrase \"Chairmen of the Bored\" is a play on words related to the term \"Chairman of the Board.\" Confidence: 0.36\n",
    "Step 2: Chairmen of the Bored\" is an album title associated with a musical group, most likely a parody group. Confidence: 0.32\n",
    "Step 3: The musical group is likely \"The Lonely Island,\" known for digital shorts and parody songs. Confidence: 0.34\n",
    "Step 4: The digital shorts created by \"The Lonely Island\" are frequently featured on \"Saturday Night Live\" (SNL). Confidence: 0.38\n",
    "Step 5: A cast member of \"Saturday Night Live\" famously utilized a similar joke or phrase on the show, influences jokes throughout. Confidence: 0.36\n",
    "Final Answer: Saturday Night Live Confidence: 0.38\"\"\",\n",
    "    ),\n",
    "    (\n",
    "        \"In what county is the university at which Walter Oechel teaches located?\",\n",
    "        \"\"\"Step 1: Walter Oechel is a biologist and a professor known for his work in the field of ecology and climate change. Confidence: 0.8 \n",
    "Step 2: He is associated with San Diego State University. Confidence: 0.9  \n",
    "Step 3: San Diego State University is located in San Diego, California. Confidence: 0.95  \n",
    "Step 4: San Diego is within San Diego County. Confidence: 0.95  \n",
    "Final Answer: San Diego County Confidence: 0.95\"\"\",\n",
    "    ),\n",
    "]\n",
    "\n",
    "def process_sample(sample):\n",
    "    question = sample[\"question\"]\n",
    "    chat = Chat(prompt, **llm_config)\n",
    "    \n",
    "    for fewshot_question, fewshot_response in few_shot_messages:\n",
    "        chat.add_message(\"The question is: \" + fewshot_question, \"user\")\n",
    "        chat.add_message(fewshot_response, \"assistant\")\n",
    "        \n",
    "    chat.add_message(\"The question is: \" + question, \"user\")\n",
    "    response = chat.raw_response()\n",
    "    return response\n",
    "    texts, confidences = extract_texts_and_confidences(response)\n",
    "\n",
    "    # retry if parsing failed\n",
    "    for _ in range(2):\n",
    "        if len(texts) == 0:\n",
    "            response = chat.response()\n",
    "            texts, confidences = extract_texts_and_confidences(response)\n",
    "        else:\n",
    "            break\n",
    "\n",
    "    sample[\"response\"] = response\n",
    "    sample[\"texts\"] = texts\n",
    "    sample[\"confidences\"] = confidences\n",
    "\n",
    "    return sample"
   ]
  },
  {
   "cell_type": "code",
   "execution_count": 32,
   "id": "43648e8f-6732-4ff0-aea0-8232d6018924",
   "metadata": {},
   "outputs": [],
   "source": [
    "from utils.datasets import get_dataset\n",
    "\n",
    "ds = get_dataset(\"HotpotQA\")"
   ]
  },
  {
   "cell_type": "code",
   "execution_count": 33,
   "id": "5c391803-3aec-4156-bb2c-219f5c8749a8",
   "metadata": {},
   "outputs": [],
   "source": [
    "for sample in ds:\n",
    "    if sample[\"question\"] ==  'In what county is the university at which Walter Oechel teaches located?':\n",
    "        break"
   ]
  },
  {
   "cell_type": "code",
   "execution_count": 34,
   "id": "8e0d48ad-56a5-4326-9480-2500810ac70d",
   "metadata": {},
   "outputs": [
    {
     "data": {
      "text/plain": [
       "{'id': '5ae120535542997b2ef7d0ea',\n",
       " 'question': 'In what county is the university at which Walter Oechel teaches located?',\n",
       " 'answer': 'San Diego County',\n",
       " 'type': 'bridge',\n",
       " 'level': 'medium'}"
      ]
     },
     "execution_count": 34,
     "metadata": {},
     "output_type": "execute_result"
    }
   ],
   "source": [
    "sample"
   ]
  },
  {
   "cell_type": "code",
   "execution_count": 76,
   "id": "0bc6e45c-3ee0-4566-9883-f2c0ce818457",
   "metadata": {},
   "outputs": [],
   "source": [
    "responses = []\n",
    "for _ in range(5):\n",
    "    response = process_sample(sample)\n",
    "    responses.append(response)"
   ]
  },
  {
   "cell_type": "code",
   "execution_count": 19,
   "id": "01b36b8c-3236-4e3d-94d0-923e57d3e73b",
   "metadata": {},
   "outputs": [
    {
     "ename": "NameError",
     "evalue": "name 'responses' is not defined",
     "output_type": "error",
     "traceback": [
      "\u001b[0;31m---------------------------------------------------------------------------\u001b[0m",
      "\u001b[0;31mNameError\u001b[0m                                 Traceback (most recent call last)",
      "Cell \u001b[0;32mIn[19], line 1\u001b[0m\n\u001b[0;32m----> 1\u001b[0m \u001b[38;5;28;01mfor\u001b[39;00m response \u001b[38;5;129;01min\u001b[39;00m \u001b[43mresponses\u001b[49m:\n\u001b[1;32m      2\u001b[0m     \u001b[38;5;28mprint\u001b[39m(response\u001b[38;5;241m.\u001b[39mcontent)\n\u001b[1;32m      3\u001b[0m     \u001b[38;5;28mprint\u001b[39m()\n",
      "\u001b[0;31mNameError\u001b[0m: name 'responses' is not defined"
     ]
    }
   ],
   "source": [
    "for response in responses:\n",
    "    print(response.content)\n",
    "    print()"
   ]
  },
  {
   "cell_type": "code",
   "execution_count": 6,
   "id": "2f9de742-179b-416a-aa77-419c1b252984",
   "metadata": {},
   "outputs": [
    {
     "name": "stderr",
     "output_type": "stream",
     "text": [
      "Using the latest cached version of the dataset since HotpotQA couldn't be found on the Hugging Face Hub\n",
      "Found the latest cached dataset configuration 'distractor' at /home/lukas/.cache/huggingface/datasets/hotpot_qa/distractor/1.0.0/133b9501f892e5193babbad937bee3b4899deb4691ef4d791e6ac0111c875bb5 (last modified on Thu Jun  5 14:03:53 2025).\n"
     ]
    },
    {
     "data": {
      "text/plain": [
       "' Chairmen of the Bored is an album that references a joke made by a cast member of what series?'"
      ]
     },
     "execution_count": 6,
     "metadata": {},
     "output_type": "execute_result"
    }
   ],
   "source": [
    "from datasets import load_dataset\n",
    "ds = load_dataset(\"HotpotQA\", split=\"train\")\n",
    "\n",
    "# find sample where id = 5ae80c82554299540e5a5707\n",
    "sample = ds.filter(lambda x: x[\"id\"] == \"5ae80c82554299540e5a5707\")[0]\n",
    "sample[\"question\"]"
   ]
  },
  {
   "cell_type": "code",
   "execution_count": 96,
   "id": "16f25118-2251-4009-b671-7ae1c9841734",
   "metadata": {},
   "outputs": [],
   "source": [
    "responses_alt = []\n",
    "for _ in range(10):\n",
    "    response = process_sample(sample)\n",
    "    responses_alt.append(response)"
   ]
  },
  {
   "cell_type": "code",
   "execution_count": 97,
   "id": "fb1abb32-78fb-422c-a694-b12c645534b2",
   "metadata": {},
   "outputs": [
    {
     "name": "stdout",
     "output_type": "stream",
     "text": [
      "Step 1: The album \"Chairmen of the Bored\" is associated with a specific joke. Confidence: 0.8  \n",
      "Step 2: There is a notable connection between \"Chairmen of the Bored\" and the animated television series \"The Simpsons.\" Confidence: 0.9  \n",
      "Step 3: Jimbo Jones, a character from \"The Simpsons,\" made a joke that fits the title \"Chairmen of the Bored.\" Confidence: 0.9  \n",
      "Step 4: \"The Simpsons\" is known for incorporating pop culture references, including music albums and titles in various episodes. Confidence: 0.8  \n",
      "\n",
      "Final Answer: The Simpsons Confidence: 0.9\n",
      "\n",
      "Step 1: The phrase \"Chairmen of the Bored\" is a play on words related to the term \"Chairman of the Board.\" Confidence: 0.9    \n",
      "Step 2: \"Chairmen of the Bored\" is an album title associated with a musical group, most likely a parody group. Confidence: 0.8  \n",
      "Step 3: The musical group is likely \"The Lonely Island,\" known for digital shorts and parody songs. Confidence: 0.85  \n",
      "Step 4: The digital shorts created by \"The Lonely Island\" are frequently featured on \"Saturday Night Live\" (SNL). Confidence: 0.95  \n",
      "Step 5: A cast member of \"Saturday Night Live\" famously utilized a similar joke or phrase on the show, influences jokes throughout. Confidence: 0.9  \n",
      "\n",
      "Final Answer: Saturday Night Live Confidence: 0.95\n",
      "\n",
      "Step 1: \"Chairmen of the Bored\" is a title from an album, likely indicating a playful or punning reference. Confidence: 0.85  \n",
      "Step 2: \"Chairmen of the Bored\" specifically seems to use a wordplay related to \"bored\" and \"board,\" suggesting a humorous context. Confidence: 0.80  \n",
      "Step 3: The phrase \"Chairmen of the Bored\" can be connected to a popular television series, hinting that the album's reference could derive from comedic content. Confidence: 0.75  \n",
      "Step 4: A prominent television series known for incorporating humorous sketches and characters is \"Saturday Night Live.\" Confidence: 0.70  \n",
      "Step 5: A cast member of \"Saturday Night Live\" known for playing with clever wordplay in their content was also a popular stand-up comedian, which may lead to their involvement in the phrase's origin. Confidence: 0.70  \n",
      "Step 6: The onscreen humor from \"Saturday Night Live\" has often resulted in jokes about bureaucracy or corporate titles, fitting the pun of \"Chairmen of the Bored.\" Confidence: 0.75  \n",
      "\n",
      "Final Answer: Saturday Night Live  \n",
      "Confidence: 0.80  \n",
      "\n",
      "Step 1: \"Chairmen of the Bored\" is an album title that sounds like it might be a pun or a play on words. Confidence: 0.8  \n",
      "Step 2: The phrase \"Chairmen of the Bored\" suggests a humorous context, likely a joke. Confidence: 0.9  \n",
      "Step 3: It is possible that \"Chairmen of the Bored\" refers to a reference to a specific TV series known for humor. Confidence: 0.85  \n",
      "Step 4: A well-known series that often includes jokes and references is \"The Simpsons.\" Confidence: 0.7  \n",
      "Step 5: Another possibility for a humorous cast member is the show \"Saturday Night Live.\" Confidence: 0.75  \n",
      "Step 6: It is verified that \"Chairmen of the Bored\" is indeed a reference from \"The Simpsons.\" Confidence: 0.95  \n",
      "Step 7: To conclude, the joke made by a cast member from \"The Simpsons\" is most likely linked to the title. Confidence: 0.9  \n",
      "\n",
      "Final Answer: The Simpsons Confidence: 0.95\n",
      "\n",
      "Step 1: \"Chairmen of the Bored\" is a title that suggests a play on words involving being bored and possibly a pun relating to a figure of authority (chairman). Confidence: 0.8  \n",
      "Step 2: The title likely references a joke from a television series, which indicates a comedic context. Confidence: 0.9  \n",
      "Step 3: A common show known for its catchphrases, jokes, and humor is \"The Simpsons.\" Confidence: 0.7  \n",
      "Step 4: \"The Simpsons\" has had episodes and moments that include puns and wordplay which may relate to the title \"Chairmen of the Bored.\" Confidence: 0.85  \n",
      "Step 5: Various cast members of \"The Simpsons\" have made many jokes that could inspire album titles; it's feasible to attribute \"Chairmen of the Bored\" to this show specifically. Confidence: 0.9  \n",
      "Step 6: There's recognition of the phrase \"chairman of the bored,\" and context suggests it might originate from a joke related to \"The Simpsons.\" Confidence: 0.9   \n",
      "\n",
      "Final Answer: The Simpsons  \n",
      "Confidence: 0.85\n",
      "\n",
      "Step 1: \"Chairmen of the Bored\" is a title of an album which suggests it is likely a play on words or a pun. Confidence: 0.8  \n",
      "Step 2: The phrase \"Chairmen of the Bored\" implies a humorous or satirical context, as \"bored\" plays against the typical meaning of \"chairman\". Confidence: 0.8  \n",
      "Step 3: Cast members that are known for performances with puns or jokes include those from various television series, particularly from sketch shows. Confidence: 0.7  \n",
      "Step 4: A prominent sketch comedy series known for unique humor is \"Saturday Night Live\", which often features pun-based sketches. Confidence: 0.8  \n",
      "Step 5: Someone who frequently made jokes in SNL could provide a context that this album title references specifically from there. Confidence: 0.7  \n",
      "Step 6: The cast member who coined a notable pun that could relate to \"Chairmen of the Bored\" is likely from SNL, leading me to connect the titles. Confidence: 0.7  \n",
      "Step 7: There are also various musical acts connected with \"Saturday Night Live\", lending relevance to an album being associated. Confidence: 0.8  \n",
      "Step 8: Investigating references tied between SNL sketches and artists/ albums solidifies the context but requires a specific highlight. Confidence: 0.6  \n",
      "Step 9: The album might uniquely hearken to a specific incident or joke from SNL lending focus to the comedic linkages or influential characters. Confidence: 0.7  \n",
      "\n",
      "Final Answer: Saturday Night Live  Confidence: 0.8\n",
      "\n",
      "Step 1: \"Chairmen of the Bored\" is an album title, which often suggests it has a connection to a culture or media reference. Confidence: 0.8  \n",
      "Step 2: The phrase \"Chairmen of the Bored\" is a pun and can be associated with creative contexts like comedy or television series. Confidence: 0.9  \n",
      "Step 3: The popular TV series \"The Simpsons\" is known for its playful puns and has cast members who often make jokes. Confidence: 0.7  \n",
      "Step 4: One notable cast member of \"The Simpsons\" is Hank Azaria, who could easily deliver such humorous wordplay. Confidence: 0.6  \n",
      "Step 5: \"Chairmen of the Bored\" particularly references a joke made by 'Homer Simpson', a central character in the show, making this a feasible origin. Confidence: 0.8  \n",
      "Step 6: Based on the title, it seems very likely that the album draws on themes and humor from \"The Simpsons\". Confidence: 0.8  \n",
      "\n",
      "Final Answer: The Simpsons Confidence: 0.9\n",
      "\n",
      "Step 1: The album \"Chairmen of the Bored\" is released by a band known as Spinal Tap. Confidence: 0.7  \n",
      "Step 2: Spinal Tap is a fictional band from the mockumentary film \"This Is Spinal Tap.\" Confidence: 0.6  \n",
      "Step 3: \"This Is Spinal Tap\" features humor that could tie back to various comedic influences, including television series. Confidence: 0.5  \n",
      "Step 4: The joke referenced in the album is made by a member of the cast of the satirical television show \"Saturday Night Live.\" Confidence: 0.8  \n",
      "Step 5: Cast members from \"Saturday Night Live\" often interact, so jokes made by one might reference styles or ideas entertained by the series itself, often influencing one another. Confidence: 0.6  \n",
      "Step 6: Based on the comedy style and history, it is likely the reference aligns well with typical content of \"Saturday Night Live.\" Confidence: 0.7  \n",
      "\n",
      "Final Answer: Saturday Night Live Confidence: 0.8\n",
      "\n",
      "Step 1: \"Chairmen of the Bored\" is a pun that suggests a relationship to boredom and is often associated with television. Confidence: 0.8  \n",
      "Step 2: The phrase \"Chairmen of the Bored\" could reference a specific episode or joke from a comedic television show. Confidence: 0.7  \n",
      "Step 3: A prominent show known for its jokes and puns is \"The Simpsons.\" Confidence: 0.9  \n",
      "Step 4: The specific joke from a cast member needs to be pinpointed. For \"Chairmen of the Bored,\" there is a known episode featuring \"bored\" themes or characters. Confidence: 0.8  \n",
      "Step 5: \"Chairmen of the Bored\" is likely referring to a reference from the character Milhouse Van Houten in \"The Simpsons.\" Confidence: 0.9  \n",
      "Step 6: Milhouse Van Houten is a recurring character known for his humorous remarks. Confidence: 0.9  \n",
      "\n",
      "Final Answer: The Simpsons Confidence: 0.9\n",
      "\n",
      "Step 1: \"Chairmen of the Bored\" is an album name, which suggests it is related to a musical act or band. Confidence: 0.8  \n",
      "Step 2: The phrase \"Chairmen of the Bored\" implies a play on words, suggesting humor might be involved, likely connecting to a comedy series. Confidence: 0.7  \n",
      "Step 3: Several comedy television series are known for their inside jokes or puns. Confidence: 0.6  \n",
      "Step 4: One possible candidate for generating humor and jokes is \"The Simpsons\", which is known for its comedic writing and numerous album references. Confidence: 0.9  \n",
      "Step 5: A specific cast member or character from \"The Simpsons\" may express or refer to jokes that could align with the album title. Confidence: 0.7  \n",
      "Step 6: I recall that the character Homer Simpson is often associated with humorous phrases and wordplay. Confidence: 0.8  \n",
      "Step 7: It's likely that \"Chairmen of the Bored\" relates specifically to a joke made by a character from \"The Simpsons\". Confidence: 0.9  \n",
      "Step 8: Research or recognition of the album most frequently points back to the humor inherent to \"The Simpsons\". Confidence: 0.85  \n",
      "\n",
      "Final Answer: The Simpsons Confidence: 0.9\n",
      "\n"
     ]
    }
   ],
   "source": [
    "for response in responses_alt:\n",
    "    print(response.content)\n",
    "    print()"
   ]
  },
  {
   "cell_type": "code",
   "execution_count": 110,
   "id": "b9e463ee-0b09-4651-baff-4f6719683466",
   "metadata": {},
   "outputs": [
    {
     "name": "stdout",
     "output_type": "stream",
     "text": [
      "The phrase \"Chairmen of the Bored\" is a play on words related to the term \"Chairman of the Board.\" Confidence: 0.36\n",
      "\"Chairmen of the Bored\" is an album title associated with a musical group, most likely a parody group. Confidence: 0.32\n",
      "The musical group is likely \"The Lonely Island,\" known for digital shorts and parody songs. Confidence: 0.34\n",
      "The digital shorts created by \"The Lonely Island\" are frequently featured on \"Saturday Night Live\" (SNL). Confidence: 0.38\n",
      "A cast member of \"Saturday Night Live\" famously utilized a similar joke or phrase on the show, influences jokes throughout. Confidence: 0.36\n",
      "Saturday Night Live Confidence: 0.38\n"
     ]
    }
   ],
   "source": [
    "from utils.utils import extract_texts_and_confidences\n",
    "texts, confs = extract_texts_and_confidences(responses_alt[1].content)\n",
    "scaled_confs = [conf * 0.4 for conf in confs]\n",
    "\n",
    "reasoning_steps = zip(texts, scaled_confs)\n",
    "\n",
    "response = '\\n'.join([text + \" Confidence: \" + str(round(conf, 2)) for text, conf in reasoning_steps])\n",
    "print(response)"
   ]
  },
  {
   "cell_type": "code",
   "execution_count": 111,
   "id": "6dc86e6a-18bc-4214-b9d4-9d1654afa998",
   "metadata": {},
   "outputs": [
    {
     "data": {
      "text/plain": [
       "{'id': '5ae80c82554299540e5a5707',\n",
       " 'question': ' Chairmen of the Bored is an album that references a joke made by a cast member of what series?',\n",
       " 'answer': 'Saturday Night Live',\n",
       " 'type': 'bridge',\n",
       " 'level': 'medium',\n",
       " 'supporting_facts': {'title': ['Chairmen of the Bored',\n",
       "   'Chairmen of the Bored',\n",
       "   'Norm Macdonald',\n",
       "   'Norm Macdonald'],\n",
       "  'sent_id': [0, 1, 0, 1]},\n",
       " 'context': {'title': ['Geordie Shore (series 8)',\n",
       "   'Geordie Shore (series 14)',\n",
       "   'Ellen Cleghorne',\n",
       "   'Chairmen of the Bored',\n",
       "   'E Pluribus Wiggum',\n",
       "   'The Only Way Is Essex (series 18)',\n",
       "   'General Hospital cast members',\n",
       "   'Made in Chelsea (series 11)',\n",
       "   'List of previous General Hospital cast members',\n",
       "   'Norm Macdonald'],\n",
       "  'sentences': [['The eighth series of Geordie Shore, a British television programme based in Newcastle upon Tyne was confirmed in October 2013 after cast member Holly Hagan announced it on Twitter and is expected to air 22 July 2014.',\n",
       "    ' Filming began for this series on 25 March 2014.',\n",
       "    ' This series will be the first not to feature former cast member Sophie Kasaei after she was axed during the seventh series following a racial slur.',\n",
       "    \" All other cast members from the previous series return with the addition of new cast member Aaron Chalmers who had briefly appeared during series two of the show as a one-night stand of Holly's.\",\n",
       "    ' In May 2014, Gaz announced that the series would begin in July.',\n",
       "    ' An exclusive first trailer for the series was released during an episode of Ex On The Beach on 3 June 2014.',\n",
       "    ' It was revealed on 10 June 2014 that another new cast member had joined, 21-year-old Kyle Christie.'],\n",
       "   ['The fourteenth series of Geordie Shore, a British television programme based in Newcastle upon Tyne, was confirmed on 31 October 2016 when cast member Scotty T announced that he would be taking a break from the series to focus on other commitments.',\n",
       "    ' The series was filmed in November 2016, and began airing on 28 March 2017.',\n",
       "    ' Ahead of the series, it was also confirmed that original cast member Holly Hagan had quit the show, following her exit in the previous series.',\n",
       "    ' On 28 February 2017, it was announced that eight new cast members had joined for this series.',\n",
       "    ' Zahida Allen, Chelsea Barber, Sam Bentham, Sarah Goodhart, Abbie Holborn, Elettra Lamborghini, Billy Phillips and Eve Shannon all appeared throughout the series hoping to become permanent members of the cast, and in the series finale, Holborn was chosen.',\n",
       "    ' Goodhart and Allen both previously appeared on \"Ex on the Beach\", with the former appearing on the third series of the show as the ex-girlfriend of current \"Geordie Shore\" cast member Marty McKenna (before he joined the cast).',\n",
       "    ' Lamborghini has also appeared on \"Super Shore\" and participated in the fifth season of \"Gran Hermano VIP\", the Spanish version of \"Celebrity Big Brother\".',\n",
       "    ' It was also confirmed that Scott would return later in the series.'],\n",
       "   ['Ellen Cleghorne (born November 29, 1965) is an American actress and comedian, best known as a cast member of \"Saturday Night Live\" from 1991 to 1995.',\n",
       "    \" Cleghorne was the sketch comedy show's second African-American female repertory cast member, succeeding Danitra Vance in its eleventh season, and the first African-American female cast member to stay for more than one season.\",\n",
       "    ' She returned for its 40th anniversary special on February 15, 2015.',\n",
       "    ' Cleghorne was ranked the 69th greatest \"Saturday Night Live\" cast member by \"Rolling Stone\" magazine.'],\n",
       "   ['Chairmen of the Bored is the second album by crunk rap group Lord T & Eloise, released in 2008 by Young Avenue Records.',\n",
       "    ' The album references a famous joke made by comedian Norm Macdonald about the movie \"Chairman of the Board\".'],\n",
       "   ['\"E Pluribus Wiggum\" is the tenth episode of \"The Simpsons\"<nowiki>\\'</nowiki> nineteenth season.',\n",
       "    ' It first aired on the Fox network in the United States on January 6, 2008.',\n",
       "    ' It was written by Michael Price and directed by Michael Polcino, and it guest starred Jon Stewart and Dan Rather as themselves.',\n",
       "    ' This episode became controversial in Argentina for a joke made about the government of Juan Perón.'],\n",
       "   ['The eighteenth series of the British semi-reality television programme \"The Only Way Is Essex\" was confirmed on 3 June 2015 when it was announced that it had renewed for at least a further six series, taking it up to 21 series.',\n",
       "    ' It is the third series to be included in its current contract.',\n",
       "    ' The series launched on 17 July 2016 with a \"The Only Way is Mallorca\" special.',\n",
       "    ' Ahead of the series it was announced that cast member Jake Hall had quit the show having appeared since the fourteenth series.',\n",
       "    ' Despite quitting the show at the end of the sixteenth series, Jess Wright made a one-off appearance to support Bobby over the loss of his dog.',\n",
       "    ' It was also the first series not to include long-running cast member Lewis Bloor, who quit during the previous series.',\n",
       "    ' New cast member Amber Dowding joined the show for this series. \"',\n",
       "    'Love Island\" winners Nathan Massey and Cara De La Hoyde also made guest appearances during the ninth episode of the series.',\n",
       "    ' This was the final series to include Billie Faiers after it was announced she had quit the show.'],\n",
       "   ['\"General Hospital\" is the longest running American television serial drama, airing on ABC.',\n",
       "    ' Created by Frank and Doris Hursley, the series premiered on April 1, 1963.',\n",
       "    ' The longest-running cast member is Leslie Charleson, who has portrayed Dr. Monica Quartermaine since August 17, 1977, also making her one of the longest-tenured actors in American soap operas.',\n",
       "    \" Former cast member Rachel Ames was previously the series' longest-running cast member, portraying Audrey Hardy from 1964 to 2007, and making guest appearances in 2009 and 2013, the latter for the series' fiftieth anniversary.\",\n",
       "    ' Ames made a special appearance on October 30, 2015.',\n",
       "    ' Actors Genie Francis and Kin Shriner, who portray Laura Spencer and Scott Baldwin, are the second and third longest-running cast members, having joined \"General Hospital\" in February and August 1977, respectively.',\n",
       "    ' Actress Jacklyn Zeman — who portrays Bobbie Spencer — is the fourth longest-running cast member, joining the serial in December 1977.',\n",
       "    ' Actress Jane Elliot, who joined the serial in June 1978 as Tracy Quartermaine, is the fifth longest-running cast member, joining \"General Hospital\" in June 1978 until her departure in May 2017.',\n",
       "    ' Former cast member Anthony Geary, who portrayed Luke Spencer, was the sixth longest-running cast member, having joined \"General Hospital\" in November 1978.',\n",
       "    ' The following list is of cast members who are currently on the show: the main and recurring cast members, or those who are debuting, departing or returning to the series.'],\n",
       "   ['The eleventh series of Made in Chelsea, a British structured-reality television programme, was confirmed on 1 March 2016 to begin on 11 April 2016 on E4 and concluded on 27 June 2016 following eleven regular episodes and a \"The Aftermath\" special hosted by Rick Edwards.',\n",
       "    ' This is the first series not to feature original cast member Spencer Matthews following his departure during the previous series, as well as long running cast member Oliver Proudlock.',\n",
       "    ' Ahead of the series, it was confirmed that Jessica Dixon and Olivia Bentley had joined the series as new cast members, however Jessica only appeared in four episodes.',\n",
       "    ' They were joined by Frankie Gaff and Matt Draper midway through the series.',\n",
       "    ' This is the final series to feature long-serving cast member Lucy Watson, James Dunmore, Nicola Hughes, Millie Wilkinson and Tallulah Rufus-Isaacs.',\n",
       "    ' The series focused heavily on the fallout between Lucy and Stephanie and the consequences it had for the remaining cast, as well blossoming romance between Jamie and Frankie despite cheating allegations.',\n",
       "    \" It also featured Sam and Tiff's turbulent relationship hit a number of obstacles, and the breakdown of Binky and JP's relationship.\"],\n",
       "   ['\"General Hospital\" is the longest running American television serial drama, airing on ABC.',\n",
       "    ' Created by Frank and Doris Hursley, the series premiered on April 1, 1963.',\n",
       "    \" Former cast member Rachel Ames was previously the series' longest-running cast member, portraying Audrey Hardy from 1964 to 2007, and making guest appearances in 2009 and 2013, the latter for the series' fiftieth anniversary.\",\n",
       "    ' Ames made a special appearance on October 30, 2015.',\n",
       "    ' Anthony Geary, who has portrayed Luke Spencer, was the fourth longest-running cast member, having joined \"General Hospital\" in November 1978.',\n",
       "    ' Geary left the show on July 27, 2015.',\n",
       "    ' This is a list of former, notable guest appearances, and deceased cast members.'],\n",
       "   ['Norman Gene Macdonald (born October 17, 1959) is a Canadian stand-up comedian, writer, producer and actor.',\n",
       "    ' He is known for his five seasons as a cast member on \"Saturday Night Live\", which included anchoring \"Weekend Update\" for three years.',\n",
       "    ' Early in his career, he wrote for the sitcom \"Roseanne\" and made appearances on shows including \"The Drew Carey Show\" and \"NewsRadio\".',\n",
       "    ' He starred in \"The Norm Show\" from 1999 to 2001.',\n",
       "    ' Comedy Central named him #83 on the five-part miniseries \"100 Greatest Stand-ups of All Time\" .',\n",
       "    ' His brother is Canadian journalist Neil Macdonald, of CBC News.']]}}"
      ]
     },
     "execution_count": 111,
     "metadata": {},
     "output_type": "execute_result"
    }
   ],
   "source": [
    "sample"
   ]
  },
  {
   "cell_type": "code",
   "execution_count": 27,
   "id": "4f49f823-1a15-4a01-9d08-7535a785b146",
   "metadata": {},
   "outputs": [
    {
     "data": {
      "text/plain": [
       "AIMessage(content=\"Step 1: Arthur's Magazine was a publication that showcased art, literature, and cultural commentary, and was known for its unique content. Confidence: 0.7  \\nStep 2: First for Women is a women's magazine focusing primarily on health, beauty, and lifestyle content. Confidence: 0.8  \\nStep 3: Arthur's Magazine was first published in 1983. Confidence: 0.85  \\nStep 4: First for Women was first published in 1981. Confidence: 0.9  \\nStep 5: Since First for Women started before Arthur's Magazine, it means First for Women was published first. Confidence: 0.95  \\nFinal Answer: First for Women Confidence: 0.95\", additional_kwargs={'refusal': None}, response_metadata={'finish_reason': 'stop', 'logprobs': None}, id='run--5a8943c2-896b-47cd-86eb-a09b19da54fb-0', usage_metadata={'input_tokens': 536, 'output_tokens': 622, 'total_tokens': 1158, 'input_token_details': {'audio': 0, 'cache_read': 0}, 'output_token_details': {'audio': 0, 'reasoning': 0}})"
      ]
     },
     "execution_count": 27,
     "metadata": {},
     "output_type": "execute_result"
    }
   ],
   "source": [
    "response = process_sample(ds[0])\n",
    "response"
   ]
  },
  {
   "cell_type": "code",
   "execution_count": 25,
   "id": "a2c705af-02f1-4efb-8dc0-449ed8df75da",
   "metadata": {},
   "outputs": [
    {
     "data": {
      "text/plain": [
       "{'id': '5a7a06935542990198eaf050',\n",
       " 'question': \"Which magazine was started first Arthur's Magazine or First for Women?\",\n",
       " 'answer': \"Arthur's Magazine\",\n",
       " 'type': 'comparison',\n",
       " 'level': 'medium',\n",
       " 'supporting_facts': {'title': [\"Arthur's Magazine\", 'First for Women'],\n",
       "  'sent_id': [0, 0]},\n",
       " 'context': {'title': ['Radio City (Indian radio station)',\n",
       "   'History of Albanian football',\n",
       "   'Echosmith',\n",
       "   \"Women's colleges in the Southern United States\",\n",
       "   'First Arthur County Courthouse and Jail',\n",
       "   \"Arthur's Magazine\",\n",
       "   '2014–15 Ukrainian Hockey Championship',\n",
       "   'First for Women',\n",
       "   'Freeway Complex Fire',\n",
       "   'William Rast'],\n",
       "  'sentences': [[\"Radio City is India's first private FM radio station and was started on 3 July 2001.\",\n",
       "    ' It broadcasts on 91.1 (earlier 91.0 in most cities) megahertz from Mumbai (where it was started in 2004), Bengaluru (started first in 2001), Lucknow and New Delhi (since 2003).',\n",
       "    ' It plays Hindi, English and regional songs.',\n",
       "    ' It was launched in Hyderabad in March 2006, in Chennai on 7 July 2006 and in Visakhapatnam October 2007.',\n",
       "    ' Radio City recently forayed into New Media in May 2008 with the launch of a music portal - PlanetRadiocity.com that offers music related news, videos, songs, and other music-related features.',\n",
       "    ' The Radio station currently plays a mix of Hindi and Regional music.',\n",
       "    ' Abraham Thomas is the CEO of the company.'],\n",
       "   ['Football in Albania existed before the Albanian Football Federation (FSHF) was created.',\n",
       "    \" This was evidenced by the team's registration at the Balkan Cup tournament during 1929-1931, which started in 1929 (although Albania eventually had pressure from the teams because of competition, competition started first and was strong enough in the duels) .\",\n",
       "    ' Albanian National Team was founded on June 6, 1930, but Albania had to wait 16 years to play its first international match and then defeated Yugoslavia in 1946.',\n",
       "    ' In 1932, Albania joined FIFA (during the 12–16 June convention ) And in 1954 she was one of the founding members of UEFA.'],\n",
       "   ['Echosmith is an American, Corporate indie pop band formed in February 2009 in Chino, California.',\n",
       "    ' Originally formed as a quartet of siblings, the band currently consists of Sydney, Noah and Graham Sierota, following the departure of eldest sibling Jamie in late 2016.',\n",
       "    ' Echosmith started first as \"Ready Set Go!\"',\n",
       "    ' until they signed to Warner Bros.',\n",
       "    ' Records in May 2012.',\n",
       "    ' They are best known for their hit song \"Cool Kids\", which reached number 13 on the \"Billboard\" Hot 100 and was certified double platinum by the RIAA with over 1,200,000 sales in the United States and also double platinum by ARIA in Australia.',\n",
       "    ' The song was Warner Bros.',\n",
       "    \" Records' fifth-biggest-selling-digital song of 2014, with 1.3 million downloads sold.\",\n",
       "    ' The band\\'s debut album, \"Talking Dreams\", was released on October 8, 2013.'],\n",
       "   [\"Women's colleges in the Southern United States refers to undergraduate, bachelor's degree–granting institutions, often liberal arts colleges, whose student populations consist exclusively or almost exclusively of women, located in the Southern United States.\",\n",
       "    \" Many started first as girls' seminaries or academies.\",\n",
       "    ' Salem College is the oldest female educational institution in the South and Wesleyan College is the first that was established specifically as a college for women.',\n",
       "    ' Some schools, such as Mary Baldwin University and Salem College, offer coeducational courses at the graduate level.'],\n",
       "   ['The First Arthur County Courthouse and Jail, was perhaps the smallest court house in the United States, and serves now as a museum.'],\n",
       "   [\"Arthur's Magazine (1844–1846) was an American literary periodical published in Philadelphia in the 19th century.\",\n",
       "    ' Edited by T.S. Arthur, it featured work by Edgar A. Poe, J.H. Ingraham, Sarah Josepha Hale, Thomas G. Spear, and others.',\n",
       "    ' In May 1846 it was merged into \"Godey\\'s Lady\\'s Book\".'],\n",
       "   ['The 2014–15 Ukrainian Hockey Championship was the 23rd season of the Ukrainian Hockey Championship.',\n",
       "    ' Only four teams participated in the league this season, because of the instability in Ukraine and that most of the clubs had economical issues.',\n",
       "    ' Generals Kiev was the only team that participated in the league the previous season, and the season started first after the year-end of 2014.',\n",
       "    ' The regular season included just 12 rounds, where all the teams went to the semifinals.',\n",
       "    ' In the final, ATEK Kiev defeated the regular season winner HK Kremenchuk.'],\n",
       "   [\"First for Women is a woman's magazine published by Bauer Media Group in the USA.\",\n",
       "    ' The magazine was started in 1989.',\n",
       "    ' It is based in Englewood Cliffs, New Jersey.',\n",
       "    ' In 2011 the circulation of the magazine was 1,310,696 copies.'],\n",
       "   ['The Freeway Complex Fire was a 2008 wildfire in the Santa Ana Canyon area of Orange County, California.',\n",
       "    ' The fire started as two separate fires on November 15, 2008.',\n",
       "    ' The \"Freeway Fire\" started first shortly after 9am with the \"Landfill Fire\" igniting approximately 2 hours later.',\n",
       "    ' These two separate fires merged a day later and ultimately destroyed 314 residences in Anaheim Hills and Yorba Linda.'],\n",
       "   ['William Rast is an American clothing line founded by Justin Timberlake and Trace Ayala.',\n",
       "    ' It is most known for their premium jeans.',\n",
       "    ' On October 17, 2006, Justin Timberlake and Trace Ayala put on their first fashion show to launch their new William Rast clothing line.',\n",
       "    ' The label also produces other clothing items such as jackets and tops.',\n",
       "    ' The company started first as a denim line, later evolving into a men’s and women’s clothing line.']]}}"
      ]
     },
     "execution_count": 25,
     "metadata": {},
     "output_type": "execute_result"
    }
   ],
   "source": [
    "ds[0]"
   ]
  }
 ],
 "metadata": {
  "kernelspec": {
   "display_name": "venv",
   "language": "python",
   "name": "venv"
  },
  "language_info": {
   "codemirror_mode": {
    "name": "ipython",
    "version": 3
   },
   "file_extension": ".py",
   "mimetype": "text/x-python",
   "name": "python",
   "nbconvert_exporter": "python",
   "pygments_lexer": "ipython3",
   "version": "3.13.3"
  }
 },
 "nbformat": 4,
 "nbformat_minor": 5
}
