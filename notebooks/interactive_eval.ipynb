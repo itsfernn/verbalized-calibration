{
 "cells": [
  {
   "cell_type": "code",
   "execution_count": 28,
   "id": "1831a092-34d6-4678-b172-20272c6e109b",
   "metadata": {},
   "outputs": [],
   "source": [
    "import wandb\n",
    "import pandas as pd\n",
    "from utils.utils import plot_confidence_error, expected_calibration_error, calculate_macro_ece, calculate_auroc, calculate_auroc"
   ]
  },
  {
   "cell_type": "code",
   "execution_count": 2,
   "id": "da2f3e28-9e42-4232-9889-4ca629bf1162",
   "metadata": {},
   "outputs": [],
   "source": [
    "project_name = \"uncertainty-reimplimentation-results\"\n",
    "job_type = \"steps-eval\"\n",
    "\n",
    "args = {\n",
    "    \n",
    "}"
   ]
  },
  {
   "cell_type": "code",
   "execution_count": 42,
   "id": "88432c32-f704-4701-abab-fde39b08181d",
   "metadata": {},
   "outputs": [
    {
     "data": {
      "application/vnd.jupyter.widget-view+json": {
       "model_id": "93f721792ea74c779221fd5febf9ff86",
       "version_major": 2,
       "version_minor": 0
      },
      "text/plain": [
       "VBox(children=(Label(value='Waiting for wandb.init()...\\r'), FloatProgress(value=0.011112267511149791, max=1.0…"
      ]
     },
     "metadata": {},
     "output_type": "display_data"
    },
    {
     "data": {
      "text/html": [
       "Tracking run with wandb version 0.19.6"
      ],
      "text/plain": [
       "<IPython.core.display.HTML object>"
      ]
     },
     "metadata": {},
     "output_type": "display_data"
    },
    {
     "data": {
      "text/html": [
       "Run data is saved locally in <code>/home/lukas/Documents/Uni/Calibration Paper/code/wandb/run-20250504_111617-hgl340dn</code>"
      ],
      "text/plain": [
       "<IPython.core.display.HTML object>"
      ]
     },
     "metadata": {},
     "output_type": "display_data"
    },
    {
     "data": {
      "text/html": [
       "Syncing run <strong><a href='https://wandb.ai/hofbauer/uncertainty-reimplimentation-results/runs/hgl340dn' target=\"_blank\">rebel-fleet-613</a></strong> to <a href='https://wandb.ai/hofbauer/uncertainty-reimplimentation-results' target=\"_blank\">Weights & Biases</a> (<a href='https://wandb.me/developer-guide' target=\"_blank\">docs</a>)<br>"
      ],
      "text/plain": [
       "<IPython.core.display.HTML object>"
      ]
     },
     "metadata": {},
     "output_type": "display_data"
    },
    {
     "data": {
      "text/html": [
       " View project at <a href='https://wandb.ai/hofbauer/uncertainty-reimplimentation-results' target=\"_blank\">https://wandb.ai/hofbauer/uncertainty-reimplimentation-results</a>"
      ],
      "text/plain": [
       "<IPython.core.display.HTML object>"
      ]
     },
     "metadata": {},
     "output_type": "display_data"
    },
    {
     "data": {
      "text/html": [
       " View run at <a href='https://wandb.ai/hofbauer/uncertainty-reimplimentation-results/runs/hgl340dn' target=\"_blank\">https://wandb.ai/hofbauer/uncertainty-reimplimentation-results/runs/hgl340dn</a>"
      ],
      "text/plain": [
       "<IPython.core.display.HTML object>"
      ]
     },
     "metadata": {},
     "output_type": "display_data"
    }
   ],
   "source": [
    "run = wandb.init(\n",
    "    project=project_name,\n",
    "    job_type=job_type,\n",
    ")"
   ]
  },
  {
   "cell_type": "code",
   "execution_count": 43,
   "id": "065b3aba-89fb-49cb-a7e5-5cbffbdfae2f",
   "metadata": {},
   "outputs": [
    {
     "name": "stderr",
     "output_type": "stream",
     "text": [
      "\u001b[34m\u001b[1mwandb\u001b[0m:   1 of 1 files downloaded.  \n"
     ]
    }
   ],
   "source": [
    "table_artifact = run.use_artifact(f\"run-{run-id}-table:v0\")\n",
    "\n",
    "table: pd.DataFrame = table_artifact.get(\"table\").get_dataframe()\n",
    "run.config.update(table_artifact.logged_by().config)"
   ]
  },
  {
   "cell_type": "code",
   "execution_count": 44,
   "id": "566ebfbd-7165-4fdb-81af-14f99805ccce",
   "metadata": {},
   "outputs": [
    {
     "name": "stderr",
     "output_type": "stream",
     "text": [
      "\u001b[34m\u001b[1mwandb\u001b[0m:   1 of 1 files downloaded.  \n"
     ]
    }
   ],
   "source": [
    "failed_artifact = run.use_artifact(\"run-lzgpgvbh-failed:v0\")\n",
    "failed: pd.DataFrame = failed_artifact.get(\"failed\").get_dataframe()"
   ]
  },
  {
   "cell_type": "code",
   "execution_count": 45,
   "id": "acde3901-7491-4806-b03a-b77b6452a440",
   "metadata": {},
   "outputs": [
    {
     "data": {
      "text/html": [
       "<div>\n",
       "<style scoped>\n",
       "    .dataframe tbody tr th:only-of-type {\n",
       "        vertical-align: middle;\n",
       "    }\n",
       "\n",
       "    .dataframe tbody tr th {\n",
       "        vertical-align: top;\n",
       "    }\n",
       "\n",
       "    .dataframe thead th {\n",
       "        text-align: right;\n",
       "    }\n",
       "</style>\n",
       "<table border=\"1\" class=\"dataframe\">\n",
       "  <thead>\n",
       "    <tr style=\"text-align: right;\">\n",
       "      <th></th>\n",
       "      <th>id</th>\n",
       "      <th>question</th>\n",
       "      <th>answer</th>\n",
       "      <th>type</th>\n",
       "      <th>level</th>\n",
       "      <th>response</th>\n",
       "    </tr>\n",
       "  </thead>\n",
       "  <tbody>\n",
       "    <tr>\n",
       "      <th>0</th>\n",
       "      <td>5a9050925542995651fb512f</td>\n",
       "      <td>Sky High starred the actress who is married to...</td>\n",
       "      <td>John Travolta</td>\n",
       "      <td>bridge</td>\n",
       "      <td>medium</td>\n",
       "      <td>Kurt Russell Confidence: 0.9</td>\n",
       "    </tr>\n",
       "    <tr>\n",
       "      <th>1</th>\n",
       "      <td>5a906beb55429916514e74b9</td>\n",
       "      <td>Al-Battani and Ibn al-Shatir, have which mutua...</td>\n",
       "      <td>astronomer</td>\n",
       "      <td>comparison</td>\n",
       "      <td>easy</td>\n",
       "      <td>Astronomers \\nConfidence: 0.9</td>\n",
       "    </tr>\n",
       "    <tr>\n",
       "      <th>2</th>\n",
       "      <td>5ae80c82554299540e5a5707</td>\n",
       "      <td>Chairmen of the Bored is an album that refere...</td>\n",
       "      <td>Saturday Night Live</td>\n",
       "      <td>bridge</td>\n",
       "      <td>medium</td>\n",
       "      <td>M*A*S*H Confidence: 0.8</td>\n",
       "    </tr>\n",
       "    <tr>\n",
       "      <th>3</th>\n",
       "      <td>5ae0cb11554299603e41845d</td>\n",
       "      <td>What instrument did Shannon Leto play in his b...</td>\n",
       "      <td>drums, percussion</td>\n",
       "      <td>bridge</td>\n",
       "      <td>easy</td>\n",
       "      <td>Drums Confidence: 0.9</td>\n",
       "    </tr>\n",
       "    <tr>\n",
       "      <th>4</th>\n",
       "      <td>5a7772ac55429967ab105181</td>\n",
       "      <td>Who was drafted into the 2009 NFL Draft, durin...</td>\n",
       "      <td>Darrius Ramar Heyward-Bey</td>\n",
       "      <td>bridge</td>\n",
       "      <td>hard</td>\n",
       "      <td>Matthew Stafford Confidence: 0.9</td>\n",
       "    </tr>\n",
       "    <tr>\n",
       "      <th>...</th>\n",
       "      <td>...</td>\n",
       "      <td>...</td>\n",
       "      <td>...</td>\n",
       "      <td>...</td>\n",
       "      <td>...</td>\n",
       "      <td>...</td>\n",
       "    </tr>\n",
       "    <tr>\n",
       "      <th>132</th>\n",
       "      <td>5abb09a45542996cc5e49f69</td>\n",
       "      <td>LinkBike has a station at the largest mall in ...</td>\n",
       "      <td>Penang</td>\n",
       "      <td>bridge</td>\n",
       "      <td>medium</td>\n",
       "      <td>Kuala Lumpur Confidence: 0.8</td>\n",
       "    </tr>\n",
       "    <tr>\n",
       "      <th>133</th>\n",
       "      <td>5ade49ed5542997c77adedd3</td>\n",
       "      <td>The raid of the Po Valley in 203 BC was the cu...</td>\n",
       "      <td>Carthage</td>\n",
       "      <td>bridge</td>\n",
       "      <td>easy</td>\n",
       "      <td>Carthage Confidence: 1.0</td>\n",
       "    </tr>\n",
       "    <tr>\n",
       "      <th>134</th>\n",
       "      <td>5abc457f55429959677d6a6e</td>\n",
       "      <td>Shin Eun-kyung is best known for her leading r...</td>\n",
       "      <td>her dying sister's wishes</td>\n",
       "      <td>bridge</td>\n",
       "      <td>medium</td>\n",
       "      <td>Her family duties \\nConfidence: 0.8</td>\n",
       "    </tr>\n",
       "    <tr>\n",
       "      <th>135</th>\n",
       "      <td>5a81e76c554299676cceb14e</td>\n",
       "      <td>In the 2012–13 season, Sion competes in the S...</td>\n",
       "      <td>A.C. Milan Primavera</td>\n",
       "      <td>bridge</td>\n",
       "      <td>easy</td>\n",
       "      <td>Valencia CF Confidence: 0.7</td>\n",
       "    </tr>\n",
       "    <tr>\n",
       "      <th>136</th>\n",
       "      <td>5a77af405542992a6e59df84</td>\n",
       "      <td>The 2022 FIFA World Cup will be held in Qatar,...</td>\n",
       "      <td>23rd FIFA World Cup</td>\n",
       "      <td>bridge</td>\n",
       "      <td>easy</td>\n",
       "      <td>2026 FIFA World Cup Confidence: 1.0</td>\n",
       "    </tr>\n",
       "  </tbody>\n",
       "</table>\n",
       "<p>137 rows × 6 columns</p>\n",
       "</div>"
      ],
      "text/plain": [
       "                           id  ...                             response\n",
       "0    5a9050925542995651fb512f  ...         Kurt Russell Confidence: 0.9\n",
       "1    5a906beb55429916514e74b9  ...        Astronomers \\nConfidence: 0.9\n",
       "2    5ae80c82554299540e5a5707  ...              M*A*S*H Confidence: 0.8\n",
       "3    5ae0cb11554299603e41845d  ...                Drums Confidence: 0.9\n",
       "4    5a7772ac55429967ab105181  ...     Matthew Stafford Confidence: 0.9\n",
       "..                        ...  ...                                  ...\n",
       "132  5abb09a45542996cc5e49f69  ...         Kuala Lumpur Confidence: 0.8\n",
       "133  5ade49ed5542997c77adedd3  ...             Carthage Confidence: 1.0\n",
       "134  5abc457f55429959677d6a6e  ...  Her family duties \\nConfidence: 0.8\n",
       "135  5a81e76c554299676cceb14e  ...          Valencia CF Confidence: 0.7\n",
       "136  5a77af405542992a6e59df84  ...  2026 FIFA World Cup Confidence: 1.0\n",
       "\n",
       "[137 rows x 6 columns]"
      ]
     },
     "execution_count": 45,
     "metadata": {},
     "output_type": "execute_result"
    }
   ],
   "source": [
    "failed"
   ]
  },
  {
   "cell_type": "code",
   "execution_count": 46,
   "id": "ae6130d4-de55-4441-9dcc-023d83650204",
   "metadata": {},
   "outputs": [
    {
     "data": {
      "text/html": [
       "<div>\n",
       "<style scoped>\n",
       "    .dataframe tbody tr th:only-of-type {\n",
       "        vertical-align: middle;\n",
       "    }\n",
       "\n",
       "    .dataframe tbody tr th {\n",
       "        vertical-align: top;\n",
       "    }\n",
       "\n",
       "    .dataframe thead th {\n",
       "        text-align: right;\n",
       "    }\n",
       "</style>\n",
       "<table border=\"1\" class=\"dataframe\">\n",
       "  <thead>\n",
       "    <tr style=\"text-align: right;\">\n",
       "      <th></th>\n",
       "      <th>id</th>\n",
       "      <th>question</th>\n",
       "      <th>answer</th>\n",
       "      <th>type</th>\n",
       "      <th>level</th>\n",
       "      <th>response</th>\n",
       "      <th>prediction</th>\n",
       "      <th>confidence</th>\n",
       "      <th>f1</th>\n",
       "      <th>em</th>\n",
       "    </tr>\n",
       "  </thead>\n",
       "  <tbody>\n",
       "    <tr>\n",
       "      <th>0</th>\n",
       "      <td>5a9050925542995651fb512f</td>\n",
       "      <td>Sky High starred the actress who is married to...</td>\n",
       "      <td>John Travolta</td>\n",
       "      <td>bridge</td>\n",
       "      <td>medium</td>\n",
       "      <td>Kurt Russell Confidence: 0.9</td>\n",
       "      <td>Kurt Russell</td>\n",
       "      <td>0.9</td>\n",
       "      <td>0.000000</td>\n",
       "      <td>0.0</td>\n",
       "    </tr>\n",
       "    <tr>\n",
       "      <th>1</th>\n",
       "      <td>5a906beb55429916514e74b9</td>\n",
       "      <td>Al-Battani and Ibn al-Shatir, have which mutua...</td>\n",
       "      <td>astronomer</td>\n",
       "      <td>comparison</td>\n",
       "      <td>easy</td>\n",
       "      <td>Astronomers \\nConfidence: 0.9</td>\n",
       "      <td>Astronomers</td>\n",
       "      <td>0.9</td>\n",
       "      <td>0.000000</td>\n",
       "      <td>0.0</td>\n",
       "    </tr>\n",
       "    <tr>\n",
       "      <th>2</th>\n",
       "      <td>5ae80c82554299540e5a5707</td>\n",
       "      <td>Chairmen of the Bored is an album that refere...</td>\n",
       "      <td>Saturday Night Live</td>\n",
       "      <td>bridge</td>\n",
       "      <td>medium</td>\n",
       "      <td>M*A*S*H Confidence: 0.8</td>\n",
       "      <td>M*A*S*H</td>\n",
       "      <td>0.8</td>\n",
       "      <td>0.000000</td>\n",
       "      <td>0.0</td>\n",
       "    </tr>\n",
       "    <tr>\n",
       "      <th>3</th>\n",
       "      <td>5ae0cb11554299603e41845d</td>\n",
       "      <td>What instrument did Shannon Leto play in his b...</td>\n",
       "      <td>drums, percussion</td>\n",
       "      <td>bridge</td>\n",
       "      <td>easy</td>\n",
       "      <td>Drums Confidence: 0.9</td>\n",
       "      <td>Drums</td>\n",
       "      <td>0.9</td>\n",
       "      <td>0.666667</td>\n",
       "      <td>0.0</td>\n",
       "    </tr>\n",
       "    <tr>\n",
       "      <th>4</th>\n",
       "      <td>5a7772ac55429967ab105181</td>\n",
       "      <td>Who was drafted into the 2009 NFL Draft, durin...</td>\n",
       "      <td>Darrius Ramar Heyward-Bey</td>\n",
       "      <td>bridge</td>\n",
       "      <td>hard</td>\n",
       "      <td>Matthew Stafford Confidence: 0.9</td>\n",
       "      <td>Matthew Stafford</td>\n",
       "      <td>0.9</td>\n",
       "      <td>0.000000</td>\n",
       "      <td>0.0</td>\n",
       "    </tr>\n",
       "    <tr>\n",
       "      <th>...</th>\n",
       "      <td>...</td>\n",
       "      <td>...</td>\n",
       "      <td>...</td>\n",
       "      <td>...</td>\n",
       "      <td>...</td>\n",
       "      <td>...</td>\n",
       "      <td>...</td>\n",
       "      <td>...</td>\n",
       "      <td>...</td>\n",
       "      <td>...</td>\n",
       "    </tr>\n",
       "    <tr>\n",
       "      <th>132</th>\n",
       "      <td>5abb09a45542996cc5e49f69</td>\n",
       "      <td>LinkBike has a station at the largest mall in ...</td>\n",
       "      <td>Penang</td>\n",
       "      <td>bridge</td>\n",
       "      <td>medium</td>\n",
       "      <td>Kuala Lumpur Confidence: 0.8</td>\n",
       "      <td>Kuala Lumpur</td>\n",
       "      <td>0.8</td>\n",
       "      <td>0.000000</td>\n",
       "      <td>0.0</td>\n",
       "    </tr>\n",
       "    <tr>\n",
       "      <th>133</th>\n",
       "      <td>5ade49ed5542997c77adedd3</td>\n",
       "      <td>The raid of the Po Valley in 203 BC was the cu...</td>\n",
       "      <td>Carthage</td>\n",
       "      <td>bridge</td>\n",
       "      <td>easy</td>\n",
       "      <td>Carthage Confidence: 1.0</td>\n",
       "      <td>Carthage</td>\n",
       "      <td>1.0</td>\n",
       "      <td>1.000000</td>\n",
       "      <td>1.0</td>\n",
       "    </tr>\n",
       "    <tr>\n",
       "      <th>134</th>\n",
       "      <td>5abc457f55429959677d6a6e</td>\n",
       "      <td>Shin Eun-kyung is best known for her leading r...</td>\n",
       "      <td>her dying sister's wishes</td>\n",
       "      <td>bridge</td>\n",
       "      <td>medium</td>\n",
       "      <td>Her family duties \\nConfidence: 0.8</td>\n",
       "      <td>Her family duties</td>\n",
       "      <td>0.8</td>\n",
       "      <td>0.285714</td>\n",
       "      <td>0.0</td>\n",
       "    </tr>\n",
       "    <tr>\n",
       "      <th>135</th>\n",
       "      <td>5a81e76c554299676cceb14e</td>\n",
       "      <td>In the 2012–13 season, Sion competes in the S...</td>\n",
       "      <td>A.C. Milan Primavera</td>\n",
       "      <td>bridge</td>\n",
       "      <td>easy</td>\n",
       "      <td>Valencia CF Confidence: 0.7</td>\n",
       "      <td>Valencia CF</td>\n",
       "      <td>0.7</td>\n",
       "      <td>0.000000</td>\n",
       "      <td>0.0</td>\n",
       "    </tr>\n",
       "    <tr>\n",
       "      <th>136</th>\n",
       "      <td>5a77af405542992a6e59df84</td>\n",
       "      <td>The 2022 FIFA World Cup will be held in Qatar,...</td>\n",
       "      <td>23rd FIFA World Cup</td>\n",
       "      <td>bridge</td>\n",
       "      <td>easy</td>\n",
       "      <td>2026 FIFA World Cup Confidence: 1.0</td>\n",
       "      <td>2026 FIFA World Cup</td>\n",
       "      <td>1.0</td>\n",
       "      <td>0.750000</td>\n",
       "      <td>0.0</td>\n",
       "    </tr>\n",
       "  </tbody>\n",
       "</table>\n",
       "<p>136 rows × 10 columns</p>\n",
       "</div>"
      ],
      "text/plain": [
       "                           id  ...   em\n",
       "0    5a9050925542995651fb512f  ...  0.0\n",
       "1    5a906beb55429916514e74b9  ...  0.0\n",
       "2    5ae80c82554299540e5a5707  ...  0.0\n",
       "3    5ae0cb11554299603e41845d  ...  0.0\n",
       "4    5a7772ac55429967ab105181  ...  0.0\n",
       "..                        ...  ...  ...\n",
       "132  5abb09a45542996cc5e49f69  ...  0.0\n",
       "133  5ade49ed5542997c77adedd3  ...  1.0\n",
       "134  5abc457f55429959677d6a6e  ...  0.0\n",
       "135  5a81e76c554299676cceb14e  ...  0.0\n",
       "136  5a77af405542992a6e59df84  ...  0.0\n",
       "\n",
       "[136 rows x 10 columns]"
      ]
     },
     "execution_count": 46,
     "metadata": {},
     "output_type": "execute_result"
    }
   ],
   "source": [
    "import re\n",
    "from utils.utils import compute_exact_match, compute_f1\n",
    "\n",
    "def extract_texts_and_confidences(response: str) -> tuple[list[str], list[float]]:\n",
    "    \"\"\"\n",
    "    Extracts the final answer and confidence/probability from the LLM response.\n",
    "    Expected format at the end:\n",
    "    \"Final Answer: <answer> Probability: <confidence>\"\n",
    "    \"\"\"\n",
    "    response = response.strip().replace(\"\\n\", \" \")\n",
    "\n",
    "    # Regex to catch variations in punctuation/spacing\n",
    "    pattern = r\"(.*?)\\s*(?:Probability|Confidence)[:\\-\\s]*([01](?:\\.\\d+)?)\"\n",
    "\n",
    "    matches = re.findall(pattern, response, flags=re.MULTILINE)\n",
    "    texts = [text.strip() for text, _ in matches]\n",
    "    confidences = [float(confidence) for _, confidence in matches]\n",
    "\n",
    "    return texts, confidences\n",
    "\n",
    "def process(sample):\n",
    "    texts, confidences = extract_texts_and_confidences(sample[\"response\"])\n",
    "    if not texts:\n",
    "        return {}\n",
    "    prediction = texts[-1]\n",
    "    confidence = confidences[-1]\n",
    "\n",
    "    return {\n",
    "        \"prediction\" : prediction,\n",
    "        \"confidence\" : confidence,\n",
    "        \"f1\":  compute_f1(prediction, sample[\"answer\"]),\n",
    "        \"em\" : compute_exact_match(prediction, sample[\"answer\"])\n",
    "    }\n",
    "\n",
    "repaired = pd.concat([failed, pd.DataFrame(list(failed.apply(process, axis=1)))], axis=1)\n",
    "repaired = repaired.dropna()\n",
    "repaired"
   ]
  },
  {
   "cell_type": "code",
   "execution_count": 47,
   "id": "5f3dbb53-96d2-44c3-bafe-ce04247f1b47",
   "metadata": {},
   "outputs": [],
   "source": [
    "table = pd.concat([table, repaired])"
   ]
  },
  {
   "cell_type": "code",
   "execution_count": 48,
   "id": "e9e4dfde-6f0e-4108-a09a-4cccce1fc8ec",
   "metadata": {},
   "outputs": [
    {
     "data": {
      "image/png": "[encoded data removed]",
      "text/plain": [
       "<Figure size 600x600 with 1 Axes>"
      ]
     },
     "metadata": {},
     "output_type": "display_data"
    }
   ],
   "source": [
    "fig, _ = plot_confidence_error(\n",
    "    table[\"em\"],\n",
    "    table[\"confidence\"],\n",
    "    title=f\"{run.config.prompt} ({run.config.dataset}, {run.config.model})\",\n",
    "    ylabel=\"Accuracy\",\n",
    "    xlabel=\"Verbalized Confidence\",\n",
    ")\n",
    "\n",
    "table = table.dropna()  ## remove missing rows\n",
    "\n",
    "f1_score = table[\"f1\"].mean()\n",
    "accuracy = table[\"em\"].mean()\n",
    "ece_score = expected_calibration_error(table[\"em\"], table[\"confidence\"])\n",
    "auroc_score = calculate_auroc(table[\"em\"], table[\"confidence\"])\n",
    "macro_ece_score = calculate_macro_ece(table)\n",
    "\n",
    "wandb.log(\n",
    "    {\n",
    "        \"f1\": f1_score,\n",
    "        \"acc\": accuracy,\n",
    "        \"ece\": ece_score,\n",
    "        \"auroc\": auroc_score,\n",
    "        \"macro_ece\": macro_ece_score,\n",
    "    }\n",
    ")\n",
    "\n",
    "wandb.log({\"calibration_plot\": wandb.Image(fig)})"
   ]
  },
  {
   "cell_type": "code",
   "execution_count": 49,
   "id": "aa941f80-5109-4a32-9152-ef8fb3963c40",
   "metadata": {},
   "outputs": [
    {
     "data": {
      "text/html": [],
      "text/plain": [
       "<IPython.core.display.HTML object>"
      ]
     },
     "metadata": {},
     "output_type": "display_data"
    },
    {
     "data": {
      "text/html": [
       "<br>    <style><br>        .wandb-row {<br>            display: flex;<br>            flex-direction: row;<br>            flex-wrap: wrap;<br>            justify-content: flex-start;<br>            width: 100%;<br>        }<br>        .wandb-col {<br>            display: flex;<br>            flex-direction: column;<br>            flex-basis: 100%;<br>            flex: 1;<br>            padding: 10px;<br>        }<br>    </style><br><div class=\"wandb-row\"><div class=\"wandb-col\"><h3>Run history:</h3><br/><table class=\"wandb\"><tr><td>acc</td><td>▁</td></tr><tr><td>auroc</td><td>▁</td></tr><tr><td>ece</td><td>▁</td></tr><tr><td>f1</td><td>▁</td></tr><tr><td>macro_ece</td><td>▁</td></tr></table><br/></div><div class=\"wandb-col\"><h3>Run summary:</h3><br/><table class=\"wandb\"><tr><td>acc</td><td>0.37938</td></tr><tr><td>auroc</td><td>0.68437</td></tr><tr><td>ece</td><td>0.44361</td></tr><tr><td>f1</td><td>0.47248</td></tr><tr><td>macro_ece</td><td>0.45667</td></tr></table><br/></div></div>"
      ],
      "text/plain": [
       "<IPython.core.display.HTML object>"
      ]
     },
     "metadata": {},
     "output_type": "display_data"
    },
    {
     "data": {
      "text/html": [
       " View run <strong style=\"color:#cdcd00\">rebel-fleet-613</strong> at: <a href='https://wandb.ai/hofbauer/uncertainty-reimplimentation-results/runs/hgl340dn' target=\"_blank\">https://wandb.ai/hofbauer/uncertainty-reimplimentation-results/runs/hgl340dn</a><br> View project at: <a href='https://wandb.ai/hofbauer/uncertainty-reimplimentation-results' target=\"_blank\">https://wandb.ai/hofbauer/uncertainty-reimplimentation-results</a><br>Synced 5 W&B file(s), 1 media file(s), 0 artifact file(s) and 0 other file(s)"
      ],
      "text/plain": [
       "<IPython.core.display.HTML object>"
      ]
     },
     "metadata": {},
     "output_type": "display_data"
    },
    {
     "data": {
      "text/html": [
       "Find logs at: <code>./wandb/run-20250504_111617-hgl340dn/logs</code>"
      ],
      "text/plain": [
       "<IPython.core.display.HTML object>"
      ]
     },
     "metadata": {},
     "output_type": "display_data"
    }
   ],
   "source": [
    "run.finish()"
   ]
  },
  {
   "cell_type": "code",
   "execution_count": null,
   "id": "5e4046e0-28c2-4b84-a74f-3122350a9cc0",
   "metadata": {},
   "outputs": [],
   "source": []
  }
 ],
 "metadata": {
  "kernelspec": {
   "display_name": "venv",
   "language": "python",
   "name": "venv"
  },
  "language_info": {
   "codemirror_mode": {
    "name": "ipython",
    "version": 3
   },
   "file_extension": ".py",
   "mimetype": "text/x-python",
   "name": "python",
   "nbconvert_exporter": "python",
   "pygments_lexer": "ipython3",
   "version": "3.13.3"
  }
 },
 "nbformat": 4,
 "nbformat_minor": 5
}
