{
 "cells": [
  {
   "cell_type": "code",
   "execution_count": 1,
   "id": "2781e8b9-2847-40a0-b708-81c3e6f612b7",
   "metadata": {},
   "outputs": [],
   "source": [
    "import wandb\n",
    "\n",
    "\n",
    "api = wandb.Api()\n"
   ]
  },
  {
   "cell_type": "code",
   "execution_count": 4,
   "id": "03260869-1a80-463c-8a8b-bc2200c4b09c",
   "metadata": {},
   "outputs": [
    {
     "name": "stderr",
     "output_type": "stream",
     "text": [
      "Failed to detect the name of this notebook, you can set it manually with the WANDB_NOTEBOOK_NAME environment variable to enable code saving.\n",
      "\u001b[34m\u001b[1mwandb\u001b[0m:   2 of 2 files downloaded.  \n"
     ]
    }
   ],
   "source": [
    "artifact = api.artifact('hofbauer/Verbalized Multistep Confidence/multistep-HotpotQA-gpt-4.1-mini:v0')\n",
    "df = artifact.get(\"table\").get_dataframe()"
   ]
  },
  {
   "cell_type": "code",
   "execution_count": 12,
   "id": "35caded8-6a7a-4279-9fdf-15e4e6389de6",
   "metadata": {},
   "outputs": [],
   "source": [
    "from utils.utils import extract_texts_and_confidences\n",
    "df[\"steps\"] = list(map(lambda x :extract_texts_and_confidences(x)[0], df[\"response\"]))"
   ]
  },
  {
   "cell_type": "code",
   "execution_count": 18,
   "id": "62b4f033-3479-4c9b-8a8a-d34ee1206a3b",
   "metadata": {},
   "outputs": [],
   "source": [
    "from utils.datasets import get_dataset\n",
    "\n",
    "ds = get_dataset(\"HotpotQA\", num_samples=1000, all_collumns=True)"
   ]
  },
  {
   "cell_type": "code",
   "execution_count": 24,
   "id": "db6d8a7c-303f-4b86-9b01-bf63e93f61b9",
   "metadata": {},
   "outputs": [
    {
     "data": {
      "text/plain": [
       "{'title': ['Vinalhaven, Maine',\n",
       "  'Owls Head, Maine',\n",
       "  'North Haven, Maine',\n",
       "  'Downeast Flight 46',\n",
       "  'Northern California TRACON',\n",
       "  'Sacramento International Airport',\n",
       "  'Knox County Regional Airport',\n",
       "  'Matinicus Isle, Maine',\n",
       "  'Raleigh Executive Jetport',\n",
       "  'Lea County Regional Airport'],\n",
       " 'sentences': [['Vinalhaven is a town located on the larger of the two Fox Islands in Knox County, Maine, United States.',\n",
       "   ' Vinalhaven is also used to refer to the Island itself.',\n",
       "   ' The population was 1,165 at the 2010 census.',\n",
       "   ' It is home to a thriving lobster fishery and hosts a summer colony.',\n",
       "   ' Since there is no bridge to the island, Vinalhaven is accessible from Rockland via an approximately hour-and-fifteen-minute ferry ride across West Penobscot Bay, or by air taxi from Knox County Regional Airport.'],\n",
       "  ['Owls Head is a town in Knox County, Maine, United States.',\n",
       "   ' The population was 1,580 at the 2010 census.',\n",
       "   ' A resort and fishing area, the community is home to the Knox County Regional Airport.',\n",
       "   ' It includes the village of Ash Point.'],\n",
       "  ['North Haven is a town in Knox County, Maine, United States, in Penobscot Bay.',\n",
       "   ' The town is both a year-round island community and a prominent summer colony.',\n",
       "   ' The population was 355 at the 2010 census.',\n",
       "   ' North Haven is accessed by three-times daily ferry service from Rockland, or by air taxi from Knox County Regional Airport.'],\n",
       "  [\"Downeast Airlines Flight 46 was a scheduled airline service in the United States from Boston's Logan International Airport to Rockland, Maine operated by Downeast Airlines.\",\n",
       "   \" On May 30, 1979 a de Havilland Canada DHC-6 Twin Otter operating the flight crashed during a nonprecision approach to Rockland's Knox County Regional Airport.\",\n",
       "   \" The cause of the accident was controlled flight into terrain (CFIT) after the failure of the flightcrew to stop the aircraft's descent below the minimum descent altitude for the nonprecision approach at Knox County airport.\",\n",
       "   \" The investigation into the accident looked into the airline's corporate culture as a contributing factor to the crash; this was the first time an investigation took this approach to an air crash.\"],\n",
       "  ['Northern California TRACON (NCT) (Terminal Radar Approach Control), or NorCal TRACON for short, is an air traffic control facility that provides safety alerts, separation, and sequencing of air traffic arriving, departing, and transiting the airspace and airports in Northern California.',\n",
       "   ' Located in Rancho Cordova near Sacramento, NCT controls airspace over 19000 square miles, and serves Reno International Airport, Sacramento International Airport, San Jose International Airport, Oakland International Airport, and San Francisco International Airport, plus 19 other smaller airports with air traffic control towers.',\n",
       "   ' NCT is the 3rd busiest TRACON in America.',\n",
       "   \" NorCal TRACON is the step between local control (in an airport's control tower) and Air Route Traffic Control Center (ARTCC), in this case, Oakland Center (ICAO code: ZOA).\",\n",
       "   ' San Francisco International Airport is the 2nd largest airport in California and the largest airport serving Northern California.'],\n",
       "  ['Sacramento International Airport (IATA: SMF, ICAO: KSMF, FAA LID: SMF) is 10 mi northwest of downtown Sacramento, in Sacramento County, California.',\n",
       "   ' It is run by the Sacramento County Airport System.',\n",
       "   ' Southwest Airlines carries about half the airline passengers.'],\n",
       "  ['Knox County Regional Airport (IATA: RKD, ICAO: KRKD, FAA LID: RKD) is a county owned, public use airport in Knox County, Maine, United States.',\n",
       "   ' It is located three nautical miles (6 km) south of the central business district of Rockland, Maine.',\n",
       "   ' The airport serves the residents of midcoast Maine with commercial and charter aviation services.',\n",
       "   ' Scheduled airline service is subsidized by the Essential Air Service program.',\n",
       "   \" It is also a major hub of freight and mail service to Maine's island communities including Matinicus, North Haven and Vinalhaven.\"],\n",
       "  ['Matinicus Isle is an island plantation in Knox County, Maine, United States.',\n",
       "   ' The island is located within Penobscot Bay about 20 miles east of the mainland coast and is accessible by ferry from Rockland or by air taxi from Knox County Regional Airport.',\n",
       "   ' The plantation is both a year-round island community and a summer colony.',\n",
       "   ' The population was 74 at the 2010 census.'],\n",
       "  ['Raleigh Exec: The Raleigh Executive Jetport @ Sanford-Lee County or Raleigh Exec Jetport at Sanford-Lee CountyFAA Airport Master Record for TTA (Form 5010 ) (ICAO: KTTA,\\xa0FAA LID: TTA) is a public use airport located seven\\xa0nautical miles (8\\xa0mi, 13\\xa0km) northeast of the central business district of Sanford, a city in Lee County, North Carolina, United States.',\n",
       "   ' It is owned by the Sanford-Lee County Regional Airport Authority and was previously known as Sanford-Lee County Regional Airport.',\n",
       "   ' This airport is included in the National Plan of Integrated Airport Systems for 2011–2015, which categorized it as a \"reliever airport\" for Raleigh-Durham International Airport.'],\n",
       "  ['Lea County Regional Airport (IATA: HOB,\\xa0ICAO: KHOB) (Lea County-Hobbs Airport) is four miles (6.4\\xa0km) west of Hobbs, in Lea County, New Mexico.',\n",
       "   ' The airport covers 898 acre and has three runways.',\n",
       "   \" It is an FAA certified commercial airport served by United Airlines' affiliate with daily regional flights.\",\n",
       "   ' Lea County Regional Airport is the largest of the three airports owned and operated by Lea County Government.',\n",
       "   ' Lea County also owns and operated two general aviation airports in Lovington and Jal, New Mexico.']]}"
      ]
     },
     "execution_count": 24,
     "metadata": {},
     "output_type": "execute_result"
    }
   ],
   "source": [
    "ds[\"context\"][0]"
   ]
  },
  {
   "cell_type": "code",
   "execution_count": 50,
   "id": "ab828cc5-b988-4693-be75-9f5dd7310494",
   "metadata": {},
   "outputs": [],
   "source": [
    "def supporting_facts(sample):\n",
    "    topics = sample[\"supporting_facts\"][\"title\"]\n",
    "    titles = list(sample[\"context\"][\"title\"]) \n",
    "    context_id = [titles.index(topic) for topic in topics]\n",
    "    sent_id = sample[\"supporting_facts\"][\"sent_id\"]\n",
    "    sentences = sample[\"context\"][\"sentences\"]\n",
    "    supporting_sentences = [sentences[con_id][sent_id] for con_id, sent_id in zip(context_id, sent_id)]\n",
    "    return supporting_sentences\n",
    "\n",
    "    "
   ]
  },
  {
   "cell_type": "code",
   "execution_count": 51,
   "id": "8a07f850-d550-4800-bf66-e381de1acc74",
   "metadata": {},
   "outputs": [
    {
     "data": {
      "text/plain": [
       "['Sacramento International Airport (IATA: SMF, ICAO: KSMF, FAA LID: SMF) is 10 mi northwest of downtown Sacramento, in Sacramento County, California.',\n",
       " 'Knox County Regional Airport (IATA: RKD, ICAO: KRKD, FAA LID: RKD) is a county owned, public use airport in Knox County, Maine, United States.']"
      ]
     },
     "execution_count": 51,
     "metadata": {},
     "output_type": "execute_result"
    }
   ],
   "source": [
    "supporting_facts(ds[0])"
   ]
  },
  {
   "cell_type": "code",
   "execution_count": 52,
   "id": "645438fc-0cbb-40c0-b704-86c6a7f82917",
   "metadata": {},
   "outputs": [
    {
     "data": {
      "text/plain": [
       "'Which airport is located in Maine, Sacramento International Airport or Knox County Regional Airport?'"
      ]
     },
     "execution_count": 52,
     "metadata": {},
     "output_type": "execute_result"
    }
   ],
   "source": [
    "ds[\"question\"][0]"
   ]
  },
  {
   "cell_type": "code",
   "execution_count": 53,
   "id": "baf1e18f-324b-4aa7-8969-b83df3ec693e",
   "metadata": {},
   "outputs": [],
   "source": [
    "import pandas as pd\n",
    "# find samples in ds by id\n",
    "ds_df = ds.to_pandas()\n",
    "ds_df = ds_df[[\"id\", \"supporting_facts\", \"context\"]]\n",
    "joined_df = pd.merge(ds_df, df, on=\"id\", how=\"inner\")"
   ]
  },
  {
   "cell_type": "code",
   "execution_count": 54,
   "id": "7242e979-dd35-4e85-adf1-d8b73da0f00d",
   "metadata": {},
   "outputs": [],
   "source": [
    "joined_df[\"supporting_sentences\"] = joined_df.apply(supporting_facts, axis=1)"
   ]
  },
  {
   "cell_type": "code",
   "execution_count": 60,
   "id": "a51defa8-a71c-4008-8ad7-597fe316b3c3",
   "metadata": {},
   "outputs": [
    {
     "name": "stdout",
     "output_type": "stream",
     "text": [
      "[('Sacramento International Airport (IATA: SMF, ICAO: KSMF, FAA LID: SMF) is 10 mi northwest of downtown Sacramento, in Sacramento County, California.', 'Sacramento International Airport is located in Sacramento, California.'), ('Sacramento International Airport (IATA: SMF, ICAO: KSMF, FAA LID: SMF) is 10 mi northwest of downtown Sacramento, in Sacramento County, California.', 'Knox County Regional Airport is located in Knox County, Maine.'), ('Sacramento International Airport (IATA: SMF, ICAO: KSMF, FAA LID: SMF) is 10 mi northwest of downtown Sacramento, in Sacramento County, California.', 'The question asks which airport is located in Maine.'), ('Sacramento International Airport (IATA: SMF, ICAO: KSMF, FAA LID: SMF) is 10 mi northwest of downtown Sacramento, in Sacramento County, California.', 'Knox County Regional Airport'), ('Knox County Regional Airport (IATA: RKD, ICAO: KRKD, FAA LID: RKD) is a county owned, public use airport in Knox County, Maine, United States.', 'Sacramento International Airport is located in Sacramento, California.'), ('Knox County Regional Airport (IATA: RKD, ICAO: KRKD, FAA LID: RKD) is a county owned, public use airport in Knox County, Maine, United States.', 'Knox County Regional Airport is located in Knox County, Maine.'), ('Knox County Regional Airport (IATA: RKD, ICAO: KRKD, FAA LID: RKD) is a county owned, public use airport in Knox County, Maine, United States.', 'The question asks which airport is located in Maine.'), ('Knox County Regional Airport (IATA: RKD, ICAO: KRKD, FAA LID: RKD) is a county owned, public use airport in Knox County, Maine, United States.', 'Knox County Regional Airport')]\n"
     ]
    }
   ],
   "source": [
    "results = []\n",
    "\n",
    "for i, row in joined_df.iterrows():\n",
    "    facts = row[\"supporting_sentences\"]\n",
    "    steps = row[\"steps\"]\n",
    "    for i, step in enumerate(steps):\n",
    "        for j, fact in enumerate(facts):\n",
    "            # todo nli\n",
    "            entailment = 1 # Placeholder for NLI check\n",
    "            if entailment in [1, -1]:\n",
    "                results.append({\n",
    "                    \"fact\": fact,\n",
    "                    \"step\": step,\n",
    "                    \"fact_id\": j,\n",
    "                    \"step_id\": i,\n",
    "                    \"entailment\": entailment\n",
    "                })\n",
    "                break\n",
    "        \n",
    "    pairs = [(fact, step) for fact in facts for step in steps]\n",
    "    print(pairs)\n",
    "    break\n"
   ]
  },
  {
   "cell_type": "code",
   "execution_count": 63,
   "id": "cdc560d9-24af-4fa1-be5b-28ad24c150b4",
   "metadata": {},
   "outputs": [
    {
     "data": {
      "text/plain": [
       "4"
      ]
     },
     "execution_count": 63,
     "metadata": {},
     "output_type": "execute_result"
    }
   ],
   "source": [
    "len(pairs)\n",
    "len(steps)"
   ]
  },
  {
   "cell_type": "code",
   "execution_count": 65,
   "id": "b57d37ff-c78f-40c7-a06f-7c3c02b2d7b7",
   "metadata": {},
   "outputs": [
    {
     "data": {
      "text/plain": [
       "('Sacramento International Airport (IATA: SMF, ICAO: KSMF, FAA LID: SMF) is 10 mi northwest of downtown Sacramento, in Sacramento County, California.',\n",
       " 'Knox County Regional Airport is located in Knox County, Maine.')"
      ]
     },
     "execution_count": 65,
     "metadata": {},
     "output_type": "execute_result"
    }
   ],
   "source": [
    "pairs[1]"
   ]
  }
 ],
 "metadata": {
  "kernelspec": {
   "display_name": "venv",
   "language": "python",
   "name": "venv"
  },
  "language_info": {
   "codemirror_mode": {
    "name": "ipython",
    "version": 3
   },
   "file_extension": ".py",
   "mimetype": "text/x-python",
   "name": "python",
   "nbconvert_exporter": "python",
   "pygments_lexer": "ipython3",
   "version": "3.13.3"
  }
 },
 "nbformat": 4,
 "nbformat_minor": 5
}
